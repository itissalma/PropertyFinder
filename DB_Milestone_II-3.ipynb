{
  "cells": [
    {
      "cell_type": "markdown",
      "source": [
        "# Imports"
      ],
      "metadata": {
        "id": "pOpDc9m01mgO"
      }
    },
    {
      "cell_type": "code",
      "execution_count": 7,
      "metadata": {
        "colab": {
          "base_uri": "https://localhost:8080/"
        },
        "id": "FK-2jQsP23Nc",
        "outputId": "dbc62349-e977-4ebe-a867-690025feaa40"
      },
      "outputs": [
        {
          "output_type": "stream",
          "name": "stdout",
          "text": [
            "Looking in indexes: https://pypi.org/simple, https://us-python.pkg.dev/colab-wheels/public/simple/\n",
            "Requirement already satisfied: beautifulsoup4 in /usr/local/lib/python3.7/dist-packages (4.6.3)\n"
          ]
        }
      ],
      "source": [
        "!pip install beautifulsoup4"
      ]
    },
    {
      "cell_type": "code",
      "execution_count": 8,
      "metadata": {
        "colab": {
          "base_uri": "https://localhost:8080/"
        },
        "id": "366iK3OejO9R",
        "outputId": "05e8fe08-e18a-44ed-bad5-91b8d475c026"
      },
      "outputs": [
        {
          "output_type": "stream",
          "name": "stdout",
          "text": [
            "Looking in indexes: https://pypi.org/simple, https://us-python.pkg.dev/colab-wheels/public/simple/\n",
            "Requirement already satisfied: requests in /usr/local/lib/python3.7/dist-packages (2.23.0)\n",
            "Requirement already satisfied: certifi>=2017.4.17 in /usr/local/lib/python3.7/dist-packages (from requests) (2022.9.24)\n",
            "Requirement already satisfied: urllib3!=1.25.0,!=1.25.1,<1.26,>=1.21.1 in /usr/local/lib/python3.7/dist-packages (from requests) (1.24.3)\n",
            "Requirement already satisfied: idna<3,>=2.5 in /usr/local/lib/python3.7/dist-packages (from requests) (2.10)\n",
            "Requirement already satisfied: chardet<4,>=3.0.2 in /usr/local/lib/python3.7/dist-packages (from requests) (3.0.4)\n"
          ]
        }
      ],
      "source": [
        "!pip install requests"
      ]
    },
    {
      "cell_type": "code",
      "execution_count": 9,
      "metadata": {
        "id": "VSPENmj0i_V_"
      },
      "outputs": [],
      "source": [
        "from bs4 import BeautifulSoup\n",
        "import requests\n",
        "import pandas as pd\n",
        "import numpy as np\n",
        "from random import randint\n",
        "from time import sleep\n",
        "from csv import writer\n",
        "import json"
      ]
    },
    {
      "cell_type": "markdown",
      "source": [
        "# Development Projects"
      ],
      "metadata": {
        "id": "xYWJZifO1zl1"
      }
    },
    {
      "cell_type": "code",
      "execution_count": 49,
      "metadata": {
        "id": "GpacGWixKnuj"
      },
      "outputs": [],
      "source": [
        "newPages = np.arange(1,45,1)"
      ]
    },
    {
      "cell_type": "code",
      "source": [
        "def isEnglish(s):\n",
        "  return s.isascii()\n"
      ],
      "metadata": {
        "id": "uMEW2qtWyiyg"
      },
      "execution_count": 50,
      "outputs": []
    },
    {
      "cell_type": "code",
      "execution_count": 92,
      "metadata": {
        "colab": {
          "base_uri": "https://localhost:8080/",
          "height": 426
        },
        "id": "kxiXszEIKyge",
        "outputId": "bc071e6d-9602-4126-801c-487efd48c6f2"
      },
      "outputs": [
        {
          "output_type": "error",
          "ename": "KeyboardInterrupt",
          "evalue": "ignored",
          "traceback": [
            "\u001b[0;31m---------------------------------------------------------------------------\u001b[0m",
            "\u001b[0;31mTypeError\u001b[0m                                 Traceback (most recent call last)",
            "\u001b[0;32m/usr/local/lib/python3.7/dist-packages/urllib3/connectionpool.py\u001b[0m in \u001b[0;36m_make_request\u001b[0;34m(self, conn, method, url, timeout, chunked, **httplib_request_kw)\u001b[0m\n\u001b[1;32m    376\u001b[0m             \u001b[0;32mtry\u001b[0m\u001b[0;34m:\u001b[0m  \u001b[0;31m# Python 2.7, use buffering of HTTP responses\u001b[0m\u001b[0;34m\u001b[0m\u001b[0;34m\u001b[0m\u001b[0m\n\u001b[0;32m--> 377\u001b[0;31m                 \u001b[0mhttplib_response\u001b[0m \u001b[0;34m=\u001b[0m \u001b[0mconn\u001b[0m\u001b[0;34m.\u001b[0m\u001b[0mgetresponse\u001b[0m\u001b[0;34m(\u001b[0m\u001b[0mbuffering\u001b[0m\u001b[0;34m=\u001b[0m\u001b[0;32mTrue\u001b[0m\u001b[0;34m)\u001b[0m\u001b[0;34m\u001b[0m\u001b[0;34m\u001b[0m\u001b[0m\n\u001b[0m\u001b[1;32m    378\u001b[0m             \u001b[0;32mexcept\u001b[0m \u001b[0mTypeError\u001b[0m\u001b[0;34m:\u001b[0m  \u001b[0;31m# Python 3\u001b[0m\u001b[0;34m\u001b[0m\u001b[0;34m\u001b[0m\u001b[0m\n",
            "\u001b[0;31mTypeError\u001b[0m: getresponse() got an unexpected keyword argument 'buffering'",
            "\nDuring handling of the above exception, another exception occurred:\n",
            "\u001b[0;31mKeyboardInterrupt\u001b[0m                         Traceback (most recent call last)",
            "\u001b[0;32m<ipython-input-92-8e3dd643d2eb>\u001b[0m in \u001b[0;36m<module>\u001b[0;34m\u001b[0m\n\u001b[1;32m     13\u001b[0m         \u001b[0;32mif\u001b[0m\u001b[0;34m(\u001b[0m\u001b[0misEnglish\u001b[0m\u001b[0;34m(\u001b[0m\u001b[0mlink\u001b[0m\u001b[0;34m)\u001b[0m\u001b[0;34m==\u001b[0m \u001b[0;32mTrue\u001b[0m\u001b[0;34m)\u001b[0m\u001b[0;34m:\u001b[0m\u001b[0;34m\u001b[0m\u001b[0;34m\u001b[0m\u001b[0m\n\u001b[1;32m     14\u001b[0m           \u001b[0mlink\u001b[0m \u001b[0;34m=\u001b[0m \u001b[0;34m\"https://www.propertyfinder.eg\"\u001b[0m \u001b[0;34m+\u001b[0m \u001b[0mlink\u001b[0m\u001b[0;34m\u001b[0m\u001b[0;34m\u001b[0m\u001b[0m\n\u001b[0;32m---> 15\u001b[0;31m           \u001b[0mpaige\u001b[0m\u001b[0;34m=\u001b[0m\u001b[0mrequests\u001b[0m\u001b[0;34m.\u001b[0m\u001b[0mget\u001b[0m\u001b[0;34m(\u001b[0m\u001b[0mlink\u001b[0m\u001b[0;34m,\u001b[0m \u001b[0mheaders\u001b[0m\u001b[0;34m=\u001b[0m\u001b[0;34m{\u001b[0m\u001b[0;34m'User-Agent'\u001b[0m\u001b[0;34m:\u001b[0m \u001b[0;34m'Custom'\u001b[0m\u001b[0;34m}\u001b[0m\u001b[0;34m)\u001b[0m\u001b[0;34m\u001b[0m\u001b[0;34m\u001b[0m\u001b[0m\n\u001b[0m\u001b[1;32m     16\u001b[0m           \u001b[0msoup\u001b[0m\u001b[0;34m=\u001b[0m\u001b[0mBeautifulSoup\u001b[0m\u001b[0;34m(\u001b[0m\u001b[0mpaige\u001b[0m\u001b[0;34m.\u001b[0m\u001b[0mcontent\u001b[0m\u001b[0;34m,\u001b[0m \u001b[0;34m'html.parser'\u001b[0m\u001b[0;34m)\u001b[0m\u001b[0;34m\u001b[0m\u001b[0;34m\u001b[0m\u001b[0m\n\u001b[1;32m     17\u001b[0m \u001b[0;34m\u001b[0m\u001b[0m\n",
            "\u001b[0;32m/usr/local/lib/python3.7/dist-packages/requests/api.py\u001b[0m in \u001b[0;36mget\u001b[0;34m(url, params, **kwargs)\u001b[0m\n\u001b[1;32m     74\u001b[0m \u001b[0;34m\u001b[0m\u001b[0m\n\u001b[1;32m     75\u001b[0m     \u001b[0mkwargs\u001b[0m\u001b[0;34m.\u001b[0m\u001b[0msetdefault\u001b[0m\u001b[0;34m(\u001b[0m\u001b[0;34m'allow_redirects'\u001b[0m\u001b[0;34m,\u001b[0m \u001b[0;32mTrue\u001b[0m\u001b[0;34m)\u001b[0m\u001b[0;34m\u001b[0m\u001b[0;34m\u001b[0m\u001b[0m\n\u001b[0;32m---> 76\u001b[0;31m     \u001b[0;32mreturn\u001b[0m \u001b[0mrequest\u001b[0m\u001b[0;34m(\u001b[0m\u001b[0;34m'get'\u001b[0m\u001b[0;34m,\u001b[0m \u001b[0murl\u001b[0m\u001b[0;34m,\u001b[0m \u001b[0mparams\u001b[0m\u001b[0;34m=\u001b[0m\u001b[0mparams\u001b[0m\u001b[0;34m,\u001b[0m \u001b[0;34m**\u001b[0m\u001b[0mkwargs\u001b[0m\u001b[0;34m)\u001b[0m\u001b[0;34m\u001b[0m\u001b[0;34m\u001b[0m\u001b[0m\n\u001b[0m\u001b[1;32m     77\u001b[0m \u001b[0;34m\u001b[0m\u001b[0m\n\u001b[1;32m     78\u001b[0m \u001b[0;34m\u001b[0m\u001b[0m\n",
            "\u001b[0;32m/usr/local/lib/python3.7/dist-packages/requests/api.py\u001b[0m in \u001b[0;36mrequest\u001b[0;34m(method, url, **kwargs)\u001b[0m\n\u001b[1;32m     59\u001b[0m     \u001b[0;31m# cases, and look like a memory leak in others.\u001b[0m\u001b[0;34m\u001b[0m\u001b[0;34m\u001b[0m\u001b[0;34m\u001b[0m\u001b[0m\n\u001b[1;32m     60\u001b[0m     \u001b[0;32mwith\u001b[0m \u001b[0msessions\u001b[0m\u001b[0;34m.\u001b[0m\u001b[0mSession\u001b[0m\u001b[0;34m(\u001b[0m\u001b[0;34m)\u001b[0m \u001b[0;32mas\u001b[0m \u001b[0msession\u001b[0m\u001b[0;34m:\u001b[0m\u001b[0;34m\u001b[0m\u001b[0;34m\u001b[0m\u001b[0m\n\u001b[0;32m---> 61\u001b[0;31m         \u001b[0;32mreturn\u001b[0m \u001b[0msession\u001b[0m\u001b[0;34m.\u001b[0m\u001b[0mrequest\u001b[0m\u001b[0;34m(\u001b[0m\u001b[0mmethod\u001b[0m\u001b[0;34m=\u001b[0m\u001b[0mmethod\u001b[0m\u001b[0;34m,\u001b[0m \u001b[0murl\u001b[0m\u001b[0;34m=\u001b[0m\u001b[0murl\u001b[0m\u001b[0;34m,\u001b[0m \u001b[0;34m**\u001b[0m\u001b[0mkwargs\u001b[0m\u001b[0;34m)\u001b[0m\u001b[0;34m\u001b[0m\u001b[0;34m\u001b[0m\u001b[0m\n\u001b[0m\u001b[1;32m     62\u001b[0m \u001b[0;34m\u001b[0m\u001b[0m\n\u001b[1;32m     63\u001b[0m \u001b[0;34m\u001b[0m\u001b[0m\n",
            "\u001b[0;32m/usr/local/lib/python3.7/dist-packages/requests/sessions.py\u001b[0m in \u001b[0;36mrequest\u001b[0;34m(self, method, url, params, data, headers, cookies, files, auth, timeout, allow_redirects, proxies, hooks, stream, verify, cert, json)\u001b[0m\n\u001b[1;32m    528\u001b[0m         }\n\u001b[1;32m    529\u001b[0m         \u001b[0msend_kwargs\u001b[0m\u001b[0;34m.\u001b[0m\u001b[0mupdate\u001b[0m\u001b[0;34m(\u001b[0m\u001b[0msettings\u001b[0m\u001b[0;34m)\u001b[0m\u001b[0;34m\u001b[0m\u001b[0;34m\u001b[0m\u001b[0m\n\u001b[0;32m--> 530\u001b[0;31m         \u001b[0mresp\u001b[0m \u001b[0;34m=\u001b[0m \u001b[0mself\u001b[0m\u001b[0;34m.\u001b[0m\u001b[0msend\u001b[0m\u001b[0;34m(\u001b[0m\u001b[0mprep\u001b[0m\u001b[0;34m,\u001b[0m \u001b[0;34m**\u001b[0m\u001b[0msend_kwargs\u001b[0m\u001b[0;34m)\u001b[0m\u001b[0;34m\u001b[0m\u001b[0;34m\u001b[0m\u001b[0m\n\u001b[0m\u001b[1;32m    531\u001b[0m \u001b[0;34m\u001b[0m\u001b[0m\n\u001b[1;32m    532\u001b[0m         \u001b[0;32mreturn\u001b[0m \u001b[0mresp\u001b[0m\u001b[0;34m\u001b[0m\u001b[0;34m\u001b[0m\u001b[0m\n",
            "\u001b[0;32m/usr/local/lib/python3.7/dist-packages/requests/sessions.py\u001b[0m in \u001b[0;36msend\u001b[0;34m(self, request, **kwargs)\u001b[0m\n\u001b[1;32m    641\u001b[0m \u001b[0;34m\u001b[0m\u001b[0m\n\u001b[1;32m    642\u001b[0m         \u001b[0;31m# Send the request\u001b[0m\u001b[0;34m\u001b[0m\u001b[0;34m\u001b[0m\u001b[0;34m\u001b[0m\u001b[0m\n\u001b[0;32m--> 643\u001b[0;31m         \u001b[0mr\u001b[0m \u001b[0;34m=\u001b[0m \u001b[0madapter\u001b[0m\u001b[0;34m.\u001b[0m\u001b[0msend\u001b[0m\u001b[0;34m(\u001b[0m\u001b[0mrequest\u001b[0m\u001b[0;34m,\u001b[0m \u001b[0;34m**\u001b[0m\u001b[0mkwargs\u001b[0m\u001b[0;34m)\u001b[0m\u001b[0;34m\u001b[0m\u001b[0;34m\u001b[0m\u001b[0m\n\u001b[0m\u001b[1;32m    644\u001b[0m \u001b[0;34m\u001b[0m\u001b[0m\n\u001b[1;32m    645\u001b[0m         \u001b[0;31m# Total elapsed time of the request (approximately)\u001b[0m\u001b[0;34m\u001b[0m\u001b[0;34m\u001b[0m\u001b[0;34m\u001b[0m\u001b[0m\n",
            "\u001b[0;32m/usr/local/lib/python3.7/dist-packages/requests/adapters.py\u001b[0m in \u001b[0;36msend\u001b[0;34m(self, request, stream, timeout, verify, cert, proxies)\u001b[0m\n\u001b[1;32m    447\u001b[0m                     \u001b[0mdecode_content\u001b[0m\u001b[0;34m=\u001b[0m\u001b[0;32mFalse\u001b[0m\u001b[0;34m,\u001b[0m\u001b[0;34m\u001b[0m\u001b[0;34m\u001b[0m\u001b[0m\n\u001b[1;32m    448\u001b[0m                     \u001b[0mretries\u001b[0m\u001b[0;34m=\u001b[0m\u001b[0mself\u001b[0m\u001b[0;34m.\u001b[0m\u001b[0mmax_retries\u001b[0m\u001b[0;34m,\u001b[0m\u001b[0;34m\u001b[0m\u001b[0;34m\u001b[0m\u001b[0m\n\u001b[0;32m--> 449\u001b[0;31m                     \u001b[0mtimeout\u001b[0m\u001b[0;34m=\u001b[0m\u001b[0mtimeout\u001b[0m\u001b[0;34m\u001b[0m\u001b[0;34m\u001b[0m\u001b[0m\n\u001b[0m\u001b[1;32m    450\u001b[0m                 )\n\u001b[1;32m    451\u001b[0m \u001b[0;34m\u001b[0m\u001b[0m\n",
            "\u001b[0;32m/usr/local/lib/python3.7/dist-packages/urllib3/connectionpool.py\u001b[0m in \u001b[0;36murlopen\u001b[0;34m(self, method, url, body, headers, retries, redirect, assert_same_host, timeout, pool_timeout, release_conn, chunked, body_pos, **response_kw)\u001b[0m\n\u001b[1;32m    598\u001b[0m                                                   \u001b[0mtimeout\u001b[0m\u001b[0;34m=\u001b[0m\u001b[0mtimeout_obj\u001b[0m\u001b[0;34m,\u001b[0m\u001b[0;34m\u001b[0m\u001b[0;34m\u001b[0m\u001b[0m\n\u001b[1;32m    599\u001b[0m                                                   \u001b[0mbody\u001b[0m\u001b[0;34m=\u001b[0m\u001b[0mbody\u001b[0m\u001b[0;34m,\u001b[0m \u001b[0mheaders\u001b[0m\u001b[0;34m=\u001b[0m\u001b[0mheaders\u001b[0m\u001b[0;34m,\u001b[0m\u001b[0;34m\u001b[0m\u001b[0;34m\u001b[0m\u001b[0m\n\u001b[0;32m--> 600\u001b[0;31m                                                   chunked=chunked)\n\u001b[0m\u001b[1;32m    601\u001b[0m \u001b[0;34m\u001b[0m\u001b[0m\n\u001b[1;32m    602\u001b[0m             \u001b[0;31m# If we're going to release the connection in ``finally:``, then\u001b[0m\u001b[0;34m\u001b[0m\u001b[0;34m\u001b[0m\u001b[0;34m\u001b[0m\u001b[0m\n",
            "\u001b[0;32m/usr/local/lib/python3.7/dist-packages/urllib3/connectionpool.py\u001b[0m in \u001b[0;36m_make_request\u001b[0;34m(self, conn, method, url, timeout, chunked, **httplib_request_kw)\u001b[0m\n\u001b[1;32m    378\u001b[0m             \u001b[0;32mexcept\u001b[0m \u001b[0mTypeError\u001b[0m\u001b[0;34m:\u001b[0m  \u001b[0;31m# Python 3\u001b[0m\u001b[0;34m\u001b[0m\u001b[0;34m\u001b[0m\u001b[0m\n\u001b[1;32m    379\u001b[0m                 \u001b[0;32mtry\u001b[0m\u001b[0;34m:\u001b[0m\u001b[0;34m\u001b[0m\u001b[0;34m\u001b[0m\u001b[0m\n\u001b[0;32m--> 380\u001b[0;31m                     \u001b[0mhttplib_response\u001b[0m \u001b[0;34m=\u001b[0m \u001b[0mconn\u001b[0m\u001b[0;34m.\u001b[0m\u001b[0mgetresponse\u001b[0m\u001b[0;34m(\u001b[0m\u001b[0;34m)\u001b[0m\u001b[0;34m\u001b[0m\u001b[0;34m\u001b[0m\u001b[0m\n\u001b[0m\u001b[1;32m    381\u001b[0m                 \u001b[0;32mexcept\u001b[0m \u001b[0mException\u001b[0m \u001b[0;32mas\u001b[0m \u001b[0me\u001b[0m\u001b[0;34m:\u001b[0m\u001b[0;34m\u001b[0m\u001b[0;34m\u001b[0m\u001b[0m\n\u001b[1;32m    382\u001b[0m                     \u001b[0;31m# Remove the TypeError from the exception chain in Python 3;\u001b[0m\u001b[0;34m\u001b[0m\u001b[0;34m\u001b[0m\u001b[0;34m\u001b[0m\u001b[0m\n",
            "\u001b[0;32m/usr/lib/python3.7/http/client.py\u001b[0m in \u001b[0;36mgetresponse\u001b[0;34m(self)\u001b[0m\n\u001b[1;32m   1371\u001b[0m         \u001b[0;32mtry\u001b[0m\u001b[0;34m:\u001b[0m\u001b[0;34m\u001b[0m\u001b[0;34m\u001b[0m\u001b[0m\n\u001b[1;32m   1372\u001b[0m             \u001b[0;32mtry\u001b[0m\u001b[0;34m:\u001b[0m\u001b[0;34m\u001b[0m\u001b[0;34m\u001b[0m\u001b[0m\n\u001b[0;32m-> 1373\u001b[0;31m                 \u001b[0mresponse\u001b[0m\u001b[0;34m.\u001b[0m\u001b[0mbegin\u001b[0m\u001b[0;34m(\u001b[0m\u001b[0;34m)\u001b[0m\u001b[0;34m\u001b[0m\u001b[0;34m\u001b[0m\u001b[0m\n\u001b[0m\u001b[1;32m   1374\u001b[0m             \u001b[0;32mexcept\u001b[0m \u001b[0mConnectionError\u001b[0m\u001b[0;34m:\u001b[0m\u001b[0;34m\u001b[0m\u001b[0;34m\u001b[0m\u001b[0m\n\u001b[1;32m   1375\u001b[0m                 \u001b[0mself\u001b[0m\u001b[0;34m.\u001b[0m\u001b[0mclose\u001b[0m\u001b[0;34m(\u001b[0m\u001b[0;34m)\u001b[0m\u001b[0;34m\u001b[0m\u001b[0;34m\u001b[0m\u001b[0m\n",
            "\u001b[0;32m/usr/lib/python3.7/http/client.py\u001b[0m in \u001b[0;36mbegin\u001b[0;34m(self)\u001b[0m\n\u001b[1;32m    317\u001b[0m         \u001b[0;31m# read until we get a non-100 response\u001b[0m\u001b[0;34m\u001b[0m\u001b[0;34m\u001b[0m\u001b[0;34m\u001b[0m\u001b[0m\n\u001b[1;32m    318\u001b[0m         \u001b[0;32mwhile\u001b[0m \u001b[0;32mTrue\u001b[0m\u001b[0;34m:\u001b[0m\u001b[0;34m\u001b[0m\u001b[0;34m\u001b[0m\u001b[0m\n\u001b[0;32m--> 319\u001b[0;31m             \u001b[0mversion\u001b[0m\u001b[0;34m,\u001b[0m \u001b[0mstatus\u001b[0m\u001b[0;34m,\u001b[0m \u001b[0mreason\u001b[0m \u001b[0;34m=\u001b[0m \u001b[0mself\u001b[0m\u001b[0;34m.\u001b[0m\u001b[0m_read_status\u001b[0m\u001b[0;34m(\u001b[0m\u001b[0;34m)\u001b[0m\u001b[0;34m\u001b[0m\u001b[0;34m\u001b[0m\u001b[0m\n\u001b[0m\u001b[1;32m    320\u001b[0m             \u001b[0;32mif\u001b[0m \u001b[0mstatus\u001b[0m \u001b[0;34m!=\u001b[0m \u001b[0mCONTINUE\u001b[0m\u001b[0;34m:\u001b[0m\u001b[0;34m\u001b[0m\u001b[0;34m\u001b[0m\u001b[0m\n\u001b[1;32m    321\u001b[0m                 \u001b[0;32mbreak\u001b[0m\u001b[0;34m\u001b[0m\u001b[0;34m\u001b[0m\u001b[0m\n",
            "\u001b[0;32m/usr/lib/python3.7/http/client.py\u001b[0m in \u001b[0;36m_read_status\u001b[0;34m(self)\u001b[0m\n\u001b[1;32m    278\u001b[0m \u001b[0;34m\u001b[0m\u001b[0m\n\u001b[1;32m    279\u001b[0m     \u001b[0;32mdef\u001b[0m \u001b[0m_read_status\u001b[0m\u001b[0;34m(\u001b[0m\u001b[0mself\u001b[0m\u001b[0;34m)\u001b[0m\u001b[0;34m:\u001b[0m\u001b[0;34m\u001b[0m\u001b[0;34m\u001b[0m\u001b[0m\n\u001b[0;32m--> 280\u001b[0;31m         \u001b[0mline\u001b[0m \u001b[0;34m=\u001b[0m \u001b[0mstr\u001b[0m\u001b[0;34m(\u001b[0m\u001b[0mself\u001b[0m\u001b[0;34m.\u001b[0m\u001b[0mfp\u001b[0m\u001b[0;34m.\u001b[0m\u001b[0mreadline\u001b[0m\u001b[0;34m(\u001b[0m\u001b[0m_MAXLINE\u001b[0m \u001b[0;34m+\u001b[0m \u001b[0;36m1\u001b[0m\u001b[0;34m)\u001b[0m\u001b[0;34m,\u001b[0m \u001b[0;34m\"iso-8859-1\"\u001b[0m\u001b[0;34m)\u001b[0m\u001b[0;34m\u001b[0m\u001b[0;34m\u001b[0m\u001b[0m\n\u001b[0m\u001b[1;32m    281\u001b[0m         \u001b[0;32mif\u001b[0m \u001b[0mlen\u001b[0m\u001b[0;34m(\u001b[0m\u001b[0mline\u001b[0m\u001b[0;34m)\u001b[0m \u001b[0;34m>\u001b[0m \u001b[0m_MAXLINE\u001b[0m\u001b[0;34m:\u001b[0m\u001b[0;34m\u001b[0m\u001b[0;34m\u001b[0m\u001b[0m\n\u001b[1;32m    282\u001b[0m             \u001b[0;32mraise\u001b[0m \u001b[0mLineTooLong\u001b[0m\u001b[0;34m(\u001b[0m\u001b[0;34m\"status line\"\u001b[0m\u001b[0;34m)\u001b[0m\u001b[0;34m\u001b[0m\u001b[0;34m\u001b[0m\u001b[0m\n",
            "\u001b[0;32m/usr/lib/python3.7/socket.py\u001b[0m in \u001b[0;36mreadinto\u001b[0;34m(self, b)\u001b[0m\n\u001b[1;32m    587\u001b[0m         \u001b[0;32mwhile\u001b[0m \u001b[0;32mTrue\u001b[0m\u001b[0;34m:\u001b[0m\u001b[0;34m\u001b[0m\u001b[0;34m\u001b[0m\u001b[0m\n\u001b[1;32m    588\u001b[0m             \u001b[0;32mtry\u001b[0m\u001b[0;34m:\u001b[0m\u001b[0;34m\u001b[0m\u001b[0;34m\u001b[0m\u001b[0m\n\u001b[0;32m--> 589\u001b[0;31m                 \u001b[0;32mreturn\u001b[0m \u001b[0mself\u001b[0m\u001b[0;34m.\u001b[0m\u001b[0m_sock\u001b[0m\u001b[0;34m.\u001b[0m\u001b[0mrecv_into\u001b[0m\u001b[0;34m(\u001b[0m\u001b[0mb\u001b[0m\u001b[0;34m)\u001b[0m\u001b[0;34m\u001b[0m\u001b[0;34m\u001b[0m\u001b[0m\n\u001b[0m\u001b[1;32m    590\u001b[0m             \u001b[0;32mexcept\u001b[0m \u001b[0mtimeout\u001b[0m\u001b[0;34m:\u001b[0m\u001b[0;34m\u001b[0m\u001b[0;34m\u001b[0m\u001b[0m\n\u001b[1;32m    591\u001b[0m                 \u001b[0mself\u001b[0m\u001b[0;34m.\u001b[0m\u001b[0m_timeout_occurred\u001b[0m \u001b[0;34m=\u001b[0m \u001b[0;32mTrue\u001b[0m\u001b[0;34m\u001b[0m\u001b[0;34m\u001b[0m\u001b[0m\n",
            "\u001b[0;32m/usr/lib/python3.7/ssl.py\u001b[0m in \u001b[0;36mrecv_into\u001b[0;34m(self, buffer, nbytes, flags)\u001b[0m\n\u001b[1;32m   1069\u001b[0m                   \u001b[0;34m\"non-zero flags not allowed in calls to recv_into() on %s\"\u001b[0m \u001b[0;34m%\u001b[0m\u001b[0;34m\u001b[0m\u001b[0;34m\u001b[0m\u001b[0m\n\u001b[1;32m   1070\u001b[0m                   self.__class__)\n\u001b[0;32m-> 1071\u001b[0;31m             \u001b[0;32mreturn\u001b[0m \u001b[0mself\u001b[0m\u001b[0;34m.\u001b[0m\u001b[0mread\u001b[0m\u001b[0;34m(\u001b[0m\u001b[0mnbytes\u001b[0m\u001b[0;34m,\u001b[0m \u001b[0mbuffer\u001b[0m\u001b[0;34m)\u001b[0m\u001b[0;34m\u001b[0m\u001b[0;34m\u001b[0m\u001b[0m\n\u001b[0m\u001b[1;32m   1072\u001b[0m         \u001b[0;32melse\u001b[0m\u001b[0;34m:\u001b[0m\u001b[0;34m\u001b[0m\u001b[0;34m\u001b[0m\u001b[0m\n\u001b[1;32m   1073\u001b[0m             \u001b[0;32mreturn\u001b[0m \u001b[0msuper\u001b[0m\u001b[0;34m(\u001b[0m\u001b[0;34m)\u001b[0m\u001b[0;34m.\u001b[0m\u001b[0mrecv_into\u001b[0m\u001b[0;34m(\u001b[0m\u001b[0mbuffer\u001b[0m\u001b[0;34m,\u001b[0m \u001b[0mnbytes\u001b[0m\u001b[0;34m,\u001b[0m \u001b[0mflags\u001b[0m\u001b[0;34m)\u001b[0m\u001b[0;34m\u001b[0m\u001b[0;34m\u001b[0m\u001b[0m\n",
            "\u001b[0;32m/usr/lib/python3.7/ssl.py\u001b[0m in \u001b[0;36mread\u001b[0;34m(self, len, buffer)\u001b[0m\n\u001b[1;32m    927\u001b[0m         \u001b[0;32mtry\u001b[0m\u001b[0;34m:\u001b[0m\u001b[0;34m\u001b[0m\u001b[0;34m\u001b[0m\u001b[0m\n\u001b[1;32m    928\u001b[0m             \u001b[0;32mif\u001b[0m \u001b[0mbuffer\u001b[0m \u001b[0;32mis\u001b[0m \u001b[0;32mnot\u001b[0m \u001b[0;32mNone\u001b[0m\u001b[0;34m:\u001b[0m\u001b[0;34m\u001b[0m\u001b[0;34m\u001b[0m\u001b[0m\n\u001b[0;32m--> 929\u001b[0;31m                 \u001b[0;32mreturn\u001b[0m \u001b[0mself\u001b[0m\u001b[0;34m.\u001b[0m\u001b[0m_sslobj\u001b[0m\u001b[0;34m.\u001b[0m\u001b[0mread\u001b[0m\u001b[0;34m(\u001b[0m\u001b[0mlen\u001b[0m\u001b[0;34m,\u001b[0m \u001b[0mbuffer\u001b[0m\u001b[0;34m)\u001b[0m\u001b[0;34m\u001b[0m\u001b[0;34m\u001b[0m\u001b[0m\n\u001b[0m\u001b[1;32m    930\u001b[0m             \u001b[0;32melse\u001b[0m\u001b[0;34m:\u001b[0m\u001b[0;34m\u001b[0m\u001b[0;34m\u001b[0m\u001b[0m\n\u001b[1;32m    931\u001b[0m                 \u001b[0;32mreturn\u001b[0m \u001b[0mself\u001b[0m\u001b[0;34m.\u001b[0m\u001b[0m_sslobj\u001b[0m\u001b[0;34m.\u001b[0m\u001b[0mread\u001b[0m\u001b[0;34m(\u001b[0m\u001b[0mlen\u001b[0m\u001b[0;34m)\u001b[0m\u001b[0;34m\u001b[0m\u001b[0;34m\u001b[0m\u001b[0m\n",
            "\u001b[0;31mKeyboardInterrupt\u001b[0m: "
          ]
        }
      ],
      "source": [
        "with open('DevProj.csv', 'w', newline = '', encoding = 'utf8') as f1:\n",
        "    thewriter = writer(f1)\n",
        "    header = ['Project Name', 'Company Name', 'Price From', 'Price Per Sqft', 'Status', 'Quarter',\n",
        "              'Year', 'Units', 'Bedrooms', 'Location', 'Description']\n",
        "    thewriter.writerow(header)\n",
        "    for i in newPages:\n",
        "      url =\"https://www.propertyfinder.eg/en/new-projects?page=\"+str(i)\n",
        "      requesting=requests.get(url, headers={'User-Agent': 'Custom'})\n",
        "      soup = BeautifulSoup(requesting.content, 'html.parser')\n",
        "      pages = soup.find_all('li',class_=\"_1Aeoj1wO\")\n",
        "      for page in pages:\n",
        "        link = page.find('a',class_=\"_3CeWVKEE\")['href']\n",
        "        if(isEnglish(link)== True):\n",
        "          link = \"https://www.propertyfinder.eg\" + link\n",
        "          paige=requests.get(link, headers={'User-Agent': 'Custom'})\n",
        "          soup=BeautifulSoup(paige.content, 'html.parser')\n",
        "\n",
        "          pName = soup.find('h1', class_=\"_3ckSaLGM\")\n",
        "          devName = soup.find('h2', class_=\"_1mCgJEeu\")\n",
        "          diffThings = soup.find_all('span', class_=\"_1-htALWL\")\n",
        "          location = soup.find('div', class_=\"_3XeJbDEl\")\n",
        "          description = soup.find('div', class_=\"_3RInl69y\")\n",
        "\n",
        "          if(pName != None):\n",
        "            pName = pName.text.replace('\\n', '').replace('\\t', '')\n",
        "          else:\n",
        "            pName = \"None\"\n",
        "          \n",
        "          if(devName != None):\n",
        "            devName = devName.text.replace('By ', '').replace('\\n', '').replace('\\t', '')\n",
        "          else:\n",
        "            devName = \"None\"\n",
        "\n",
        "          if(len(diffThings)>0 and diffThings[0] != None):\n",
        "            priceFrom = diffThings[0].text.replace(' EGP', '').replace(',','').replace('\\n', '').replace('\\t', '')\n",
        "            if(priceFrom.isdigit()):\n",
        "              priceFrom = int(priceFrom)\n",
        "            else:\n",
        "              priceFrom = 0\n",
        "          else:\n",
        "            priceFrom = 0\n",
        "          \n",
        "          if(len(diffThings)>1 and diffThings[1] != None):\n",
        "            pricePerSqft = diffThings[1].text.replace(' EGP', '').replace('\\n', '').replace('\\t', '')\n",
        "            if(pricePerSqft.isdigit()):\n",
        "              pricePerSqft = int(pricePerSqft)\n",
        "            else:\n",
        "              pricePerSqft = 0\n",
        "            pricePerSqft = int(pricePerSqft)\n",
        "          else:\n",
        "            pricePerSqft = 0\n",
        "          \n",
        "          if(len(diffThings)>2 and diffThings[2] != None):\n",
        "            status = diffThings[2].text.replace('\\n', '').replace('\\t', '')\n",
        "          else:\n",
        "            status = \"Under Construction\"\n",
        "\n",
        "          if(len(diffThings)>3 and diffThings[3] != None):\n",
        "            fullYear = diffThings[3].text.split()\n",
        "            quarter = fullYear[0]\n",
        "            year = int(fullYear[1])\n",
        "          else:\n",
        "            quarter = \"None\"\n",
        "            year = 0\n",
        "\n",
        "          if(len(diffThings)>4 and diffThings[4] != None):\n",
        "            units = int(diffThings[4].text.replace('\\n', '').replace('\\t', ''))\n",
        "          else:\n",
        "            units = 0\n",
        "          \n",
        "          if(len(diffThings)>5 and diffThings[5] != None):\n",
        "            bedrooms = diffThings[5].text.replace('\\n', '').replace('\\t', '')\n",
        "          else:\n",
        "            bedrooms = \"None\"\n",
        "          \n",
        "          if(location != None):\n",
        "            location = location.text.replace('\\n', '').replace('\\t', '')\n",
        "          else:\n",
        "            location = \"None\"\n",
        "\n",
        "          if(description != None):\n",
        "            description = description.text.replace('\\n', '').replace('\\t', '')\n",
        "          else:\n",
        "            description = \"None\"\n",
        "          \n",
        "          projectDetails = [pName, devName, priceFrom, pricePerSqft, status, quarter, year, units, bedrooms, location, description]\n",
        "          thewriter.writerow(projectDetails)\n",
        "      #doesn't scrape links with arabic characters "
      ]
    },
    {
      "cell_type": "markdown",
      "source": [
        "# Projects, Agent, and Company"
      ],
      "metadata": {
        "id": "q9mwclLV1rzX"
      }
    },
    {
      "cell_type": "code",
      "execution_count": 10,
      "metadata": {
        "id": "dt6qJNS7vBXg"
      },
      "outputs": [],
      "source": [
        "paiges = np.arange(170,320,1)"
      ]
    },
    {
      "cell_type": "code",
      "execution_count": 12,
      "metadata": {
        "colab": {
          "base_uri": "https://localhost:8080/",
          "height": 1000
        },
        "id": "ine5HMyxvXQn",
        "outputId": "45964bf3-df39-4d7a-8a1e-b04b00d8c7ae"
      },
      "outputs": [
        {
          "output_type": "stream",
          "name": "stdout",
          "text": [
            "4251\n",
            "4252\n",
            "4253\n",
            "4254\n",
            "4255\n",
            "4256\n",
            "4257\n",
            "4258\n",
            "4259\n",
            "4260\n",
            "4261\n",
            "4262\n",
            "4263\n",
            "4264\n",
            "4265\n",
            "4266\n",
            "4267\n",
            "4268\n",
            "4269\n",
            "4270\n",
            "4271\n",
            "4272\n",
            "4273\n",
            "4274\n",
            "4275\n",
            "4276\n",
            "4277\n",
            "4278\n",
            "4279\n",
            "4280\n",
            "4281\n",
            "4282\n",
            "4283\n",
            "4284\n",
            "4285\n",
            "4286\n",
            "4287\n",
            "4288\n",
            "4289\n",
            "4290\n",
            "4291\n",
            "4292\n",
            "4293\n",
            "4294\n",
            "4295\n",
            "4296\n",
            "4297\n",
            "4298\n",
            "4299\n",
            "4300\n",
            "4301\n",
            "4302\n",
            "4303\n",
            "4304\n",
            "4305\n",
            "4306\n",
            "4307\n",
            "4308\n",
            "4309\n",
            "4310\n",
            "4311\n",
            "4312\n",
            "4313\n",
            "4314\n",
            "4315\n",
            "4316\n",
            "4317\n",
            "4318\n",
            "4319\n",
            "4320\n",
            "4321\n",
            "4322\n",
            "4323\n",
            "4324\n",
            "4325\n",
            "4326\n",
            "4327\n",
            "4328\n",
            "4329\n",
            "4330\n",
            "4331\n",
            "4332\n",
            "4333\n",
            "4334\n",
            "4335\n",
            "4336\n",
            "4337\n",
            "4338\n",
            "4339\n",
            "4340\n",
            "4341\n",
            "4342\n",
            "4343\n",
            "4344\n",
            "4345\n",
            "4346\n",
            "4347\n",
            "4348\n",
            "4349\n",
            "4350\n",
            "4351\n",
            "4352\n",
            "4353\n",
            "4354\n",
            "4355\n",
            "4356\n",
            "4357\n",
            "4358\n",
            "4359\n",
            "4360\n",
            "4361\n",
            "4362\n",
            "4363\n",
            "4364\n",
            "4365\n",
            "4366\n",
            "4367\n",
            "4368\n",
            "4369\n",
            "4370\n",
            "4371\n",
            "4372\n",
            "4373\n",
            "4374\n",
            "4375\n",
            "4376\n",
            "4377\n",
            "4378\n",
            "4379\n",
            "4380\n",
            "4381\n",
            "4382\n",
            "4383\n",
            "4384\n",
            "4385\n",
            "4386\n",
            "4387\n",
            "4388\n",
            "4389\n",
            "4390\n",
            "4391\n",
            "4392\n",
            "4393\n",
            "4394\n",
            "4395\n",
            "4396\n",
            "4397\n",
            "4398\n",
            "4399\n",
            "4400\n",
            "4401\n",
            "4402\n",
            "4403\n",
            "4404\n",
            "4405\n",
            "4406\n",
            "4407\n",
            "4408\n",
            "4409\n",
            "4410\n",
            "4411\n",
            "4412\n",
            "4413\n",
            "4414\n",
            "4415\n",
            "4416\n",
            "4417\n",
            "4418\n",
            "4419\n",
            "4420\n",
            "4421\n",
            "4422\n",
            "4423\n",
            "4424\n",
            "4425\n",
            "4426\n",
            "4427\n",
            "4428\n",
            "4429\n",
            "4430\n",
            "4431\n",
            "4432\n",
            "4433\n",
            "4434\n",
            "4435\n",
            "4436\n",
            "4437\n",
            "4438\n",
            "4439\n",
            "4440\n",
            "4441\n",
            "4442\n",
            "4443\n",
            "4444\n",
            "4445\n",
            "4446\n",
            "4447\n",
            "4448\n",
            "4449\n",
            "4450\n",
            "4451\n",
            "4452\n",
            "4453\n",
            "4454\n",
            "4455\n",
            "4456\n",
            "4457\n",
            "4458\n",
            "4459\n",
            "4460\n",
            "4461\n",
            "4462\n",
            "4463\n",
            "4464\n",
            "4465\n",
            "4466\n",
            "4467\n",
            "4468\n",
            "4469\n",
            "4470\n",
            "4471\n",
            "4472\n",
            "4473\n",
            "4474\n",
            "4475\n",
            "4476\n",
            "4477\n",
            "4478\n",
            "4479\n",
            "4480\n",
            "4481\n",
            "4482\n",
            "4483\n",
            "4484\n",
            "4485\n",
            "4486\n",
            "4487\n",
            "4488\n",
            "4489\n",
            "4490\n",
            "4491\n",
            "4492\n",
            "4493\n",
            "4494\n",
            "4495\n",
            "4496\n",
            "4497\n",
            "4498\n",
            "4499\n",
            "4500\n",
            "4501\n",
            "4502\n",
            "4503\n",
            "4504\n",
            "4505\n",
            "4506\n",
            "4507\n",
            "4508\n",
            "4509\n",
            "4510\n",
            "4511\n",
            "4512\n",
            "4513\n",
            "4514\n",
            "4515\n",
            "4516\n",
            "4517\n",
            "4518\n",
            "4519\n"
          ]
        },
        {
          "output_type": "error",
          "ename": "IndexError",
          "evalue": "ignored",
          "traceback": [
            "\u001b[0;31m---------------------------------------------------------------------------\u001b[0m",
            "\u001b[0;31mIndexError\u001b[0m                                Traceback (most recent call last)",
            "\u001b[0;32m<ipython-input-12-dbafa63b8582>\u001b[0m in \u001b[0;36m<module>\u001b[0;34m\u001b[0m\n\u001b[1;32m    150\u001b[0m                   \u001b[0mfirstName\u001b[0m \u001b[0;34m=\u001b[0m \u001b[0magentName\u001b[0m\u001b[0;34m\u001b[0m\u001b[0;34m\u001b[0m\u001b[0m\n\u001b[1;32m    151\u001b[0m                 \u001b[0;32melse\u001b[0m\u001b[0;34m:\u001b[0m\u001b[0;34m\u001b[0m\u001b[0;34m\u001b[0m\u001b[0m\n\u001b[0;32m--> 152\u001b[0;31m                   \u001b[0mfirstName\u001b[0m \u001b[0;34m=\u001b[0m \u001b[0magentName\u001b[0m\u001b[0;34m[\u001b[0m\u001b[0;36m0\u001b[0m\u001b[0;34m]\u001b[0m\u001b[0;34m\u001b[0m\u001b[0;34m\u001b[0m\u001b[0m\n\u001b[0m\u001b[1;32m    153\u001b[0m                   \u001b[0mlastName\u001b[0m \u001b[0;34m=\u001b[0m \u001b[0magentName\u001b[0m\u001b[0;34m[\u001b[0m\u001b[0;34m-\u001b[0m\u001b[0;36m1\u001b[0m\u001b[0;34m]\u001b[0m\u001b[0;34m\u001b[0m\u001b[0;34m\u001b[0m\u001b[0m\n\u001b[1;32m    154\u001b[0m               \u001b[0;32melse\u001b[0m\u001b[0;34m:\u001b[0m\u001b[0;34m\u001b[0m\u001b[0;34m\u001b[0m\u001b[0m\n",
            "\u001b[0;31mIndexError\u001b[0m: list index out of range"
          ]
        }
      ],
      "source": [
        "count = 4250\n",
        "with open('property.csv', 'w', newline = '', encoding = 'utf8') as f1, open('agent.csv', 'w', newline = '', encoding = 'utf8') as f2, open('company.csv', 'w', newline = '', encoding = 'utf8') as f3, open('amenities.csv', 'w', newline = '', encoding = 'utf8') as f4:\n",
        "      thewriter1 = writer(f1)\n",
        "      thewriter2 = writer(f2)\n",
        "      thewriter3 = writer(f3)\n",
        "      thewriter4 = writer(f4)\n",
        "      header1 = ['Property ID', 'Title', 'Property Type', 'Size', 'Listing Date', 'Bedrooms', 'Bathrooms', \n",
        "                'Price', 'Area', 'City', 'Country', 'Agent Number', 'Project Name', 'Description']\n",
        "      header2 = ['Agent Phone Num', 'First Name', 'Last Name', 'Company Name']\n",
        "      header3 = ['Company Name', 'Phone Num', 'Address', '# Active Listings', 'About']\n",
        "      header4 = ['Property ID', 'Amenity']\n",
        "      thewriter1.writerow(header1)\n",
        "      thewriter2.writerow(header2)\n",
        "      thewriter3.writerow(header3)\n",
        "      thewriter4.writerow(header4)\n",
        "\n",
        "      for i in paiges:\n",
        "        url =\"https://www.propertyfinder.eg/en/search?c=1&ob=nd&page=\"+str(i)+\"&pt=3000000\"\n",
        "        requesting=requests.get(url, headers={'User-Agent': 'Custom'})\n",
        "        soup = BeautifulSoup(requesting.content, 'html.parser')\n",
        "        pages = soup.find_all('div',class_=\"card-list__item\")\n",
        "\n",
        "        for page in pages:\n",
        "          count = count +1\n",
        "          print(count)\n",
        "          link = page.find('a',class_=\"card__link\")['href']\n",
        "          link = \"https://www.propertyfinder.eg\" + link\n",
        "          #print(link)\n",
        "          paige=requests.get(link, headers={'User-Agent': 'Custom'})\n",
        "          #print(paige)\n",
        "          soup=BeautifulSoup(paige.content, 'html.parser')\n",
        "          newpages=soup.find_all('div',class_=\"card-list__item\")\n",
        "\n",
        "          olistingDate = soup.find_all('div', class_=\"property-page__legal-list-content\")\n",
        "\n",
        "          if(olistingDate[1] != None):\n",
        "            listingDate = olistingDate[1].text.replace('\\t', '').replace('\\n','')\n",
        "            tListingDate = listingDate.split()\n",
        "            tempListingDate = int(tListingDate[0])\n",
        "            if(tListingDate[1]==\"minutes\" or tListingDate[1]==\"hours\" or tListingDate[1]==\"hour\" or tListingDate[1]==\"minute\" or (tListingDate[1]==\"days\" and tempListingDate<15) or (tListingDate[1]==\"day\" and tempListingDate<15)):\n",
        "              listingDate = listingDate.replace(' days ago', '').replace(' minutes ago', '').replace(' hours ago', '').replace(' hour ago', '').replace(' day ago', '').replace(' minute ago', '')\n",
        "              listingDate = int(listingDate)\n",
        "              if(tListingDate[1]==\"minutes\" or tListingDate[1]==\"hours\" or tListingDate[1]==\"hour\" or tListingDate[1]==\"minute\"):\n",
        "                listingDate =0\n",
        "              else:\n",
        "                listingDate = int(listingDate)\n",
        "              day = 29 - listingDate\n",
        "              day = str(day)\n",
        "              listingDate = \"2022-10-\" + day\n",
        "\n",
        "              title = soup.find('h1', class_=\"text text--size6 text--bold property-page__title\")\n",
        "              description= soup.find('div', class_=\"property-page__description\")\n",
        "              diffThings = soup.find_all('div', class_=\"property-facts__value\")#.text.replace('\\n', '').replace('\\t', '')\n",
        "              price = soup.find('div', class_=\"property-price__price\")\n",
        "              location = soup.find('div', class_=\"text text--size3\")\n",
        "              sizeList = soup.find_all('span', class_=\"property-facts__text\")\n",
        "              amenities = soup.find_all('div', class_=\"property-amenities__list\")\n",
        "              projName = soup.find('div', class_=\"property-project-details__title\")\n",
        "\n",
        "              if(projName != None):\n",
        "                projName = projName.text.replace('\\n', '').replace('\\t', '')\n",
        "              else:\n",
        "                projName = \"None\"\n",
        "\n",
        "              if(title != None):\n",
        "                title = title.text.replace('\\n', '').replace('\\t', '')\n",
        "              else :\n",
        "                title = \"None\"\n",
        "              \n",
        "              if(description != None):\n",
        "                description = description.text.replace('Description', '')\n",
        "              else:\n",
        "                description = \"For sale\"\n",
        "              \n",
        "              if(len(diffThings)>0 and diffThings[0]!=None):\n",
        "                propertyType = diffThings[0].text.replace('\\t', '').replace('\\n','')\n",
        "              else:\n",
        "                propertyType = \"None\"\n",
        "\n",
        "              if(len(diffThings)>2 and diffThings[2] != None):\n",
        "                nbedrooms = diffThings[2].text.replace('\\t', '').replace('\\n','').split('+')\n",
        "                if(nbedrooms[0].isdigit()):\n",
        "                  bedrooms = int(nbedrooms[0])\n",
        "                else:\n",
        "                  bedrooms = 1\n",
        "              else:\n",
        "                bedrooms = 0\n",
        "\n",
        "              if(len(diffThings)>3 and diffThings[3] != None):\n",
        "                bathrooms = diffThings[3].text.replace('\\t', '').replace('\\n','')\n",
        "                if(bathrooms.isdigit()):\n",
        "                  bathrooms = int(bathrooms)\n",
        "                else:\n",
        "                  bathrooms = 1\n",
        "              else:\n",
        "                bathrooms = 0\n",
        "              \n",
        "              if(price != None):\n",
        "                price = price.text.replace('\\n', '').replace(' EGP', '').replace(',', '').replace(' ', '')\n",
        "                if(price.isdigit() == True ):\n",
        "                  price = int(price)\n",
        "                else:\n",
        "                  price = 0\n",
        "\n",
        "              else: \n",
        "                price = 0\n",
        "              \n",
        "              if(location != None):\n",
        "                location = location.text.replace('\\t', '').replace('\\n','')\n",
        "                x = location.split(\", \")\n",
        "                if(len(x)>0):\n",
        "                  city = x[0]\n",
        "                else:\n",
        "                  city =\"None\"\n",
        "                if(len(x)>1):\n",
        "                  area = x[1]\n",
        "                else:\n",
        "                  area = \"None\"\n",
        "              else:\n",
        "                city = \"None\"\n",
        "                area = \"None\"\n",
        "              country = \"Egypt\"\n",
        "\n",
        "              if(len(sizeList)>1 and sizeList[1]!=None):\n",
        "                size = sizeList[1].text\n",
        "                size=size.split(\"sqm\")\n",
        "                size=size[0].replace('\\n', '').replace('\\t', '').replace(',', '')\n",
        "                if(size.isdigit()):\n",
        "                  size= int(size)\n",
        "                else:\n",
        "                  size = 0\n",
        "              else:\n",
        "                size = 0\n",
        "              \n",
        "              amenitiesList = []\n",
        "              for j in amenities:\n",
        "                if(j!= None):\n",
        "                  amenitiesList.append(j.text.replace('\\n', '').replace('\\t', '').replace(' ', ''))\n",
        "              \n",
        "              #project id \n",
        "              agentName = soup.find('h4', class_=\"text text--size3 property-agent__name\")\n",
        "              agentCompany = soup.find('div', class_=\"property-agent__position-broker-name\")\n",
        "              agentNum = soup.find_all('script')\n",
        "              agentNum = json.loads(agentNum[13].text)[1]['telephone'].replace('+2', '')\n",
        "              \n",
        "              if(agentName != None):\n",
        "                agentName = agentName.text.replace('\\t', '').replace('\\n','')\n",
        "                agentName = agentName.split()\n",
        "                if(len(agentName)==1):\n",
        "                  firstName = agentName\n",
        "                else:\n",
        "                  firstName = agentName[0]\n",
        "                  lastName = agentName[-1]\n",
        "              else:\n",
        "                firstName = \"None\"\n",
        "                lastName = \"None\"\n",
        "              \n",
        "              if(agentCompany != None):\n",
        "                agentCompany = agentCompany.text.replace(' ', '').replace('\\n', '')\n",
        "              else:\n",
        "                agentCompany = \"None\"\n",
        "\n",
        "              companyUrl = soup.find('a',class_=\"link link--underline\")\n",
        "              \n",
        "              if(companyUrl != None):\n",
        "                companyUrl = companyUrl['href']\n",
        "                companyUrl = \"https://www.propertyfinder.eg\" + companyUrl\n",
        "                companyPage=requests.get(companyUrl, headers={'User-Agent': 'Custom'})\n",
        "                #print(companyPage)\n",
        "                cSoup = BeautifulSoup(companyPage.content, 'html.parser')\n",
        "                #name done\n",
        "                numOfListings = cSoup.find('div',class_=\"pane--text-small\")\n",
        "                headOffice = cSoup.find('div',class_=\"bio-info__details\")\n",
        "                companyDescription = cSoup.find('div',class_=\"bio-info__description\")\n",
        "                companyNum = cSoup.find('span',class_=\"button__text button__text-value button__phone-ltr button__text--is-hidden\")\n",
        "\n",
        "                if(numOfListings != None):\n",
        "                  numOfListings = numOfListings.text.replace('Active listings:', '').replace('Properties', '').replace('\\t', '').replace('\\n','').replace(',', '').replace('Property', '').replace(' ', '')\n",
        "                  if(numOfListings.isdigit()):\n",
        "                    numOfListings = int(numOfListings)\n",
        "                  else: \n",
        "                    numOfListings = 0\n",
        "                else:\n",
        "                  numOfListings = 0\n",
        "                \n",
        "                if(headOffice != None):\n",
        "                  headOffice = headOffice.text.replace('Head office:', '').replace('\\t', '').replace('\\n','')\n",
        "                else:\n",
        "                  headOffice = \"None\"\n",
        "                \n",
        "                if(companyDescription != None):\n",
        "                  companyDescription = companyDescription.text.replace('\\t', '').replace('\\n','')\n",
        "                else:\n",
        "                  companyDescription = \"None\"\n",
        "                \n",
        "                if(companyNum != None):\n",
        "                  companyNum = companyNum.text.replace('+', '').replace('\\t', '').replace('\\n','')\n",
        "                else:\n",
        "                  companyNum = 0\n",
        "              forCompany = [agentCompany, companyNum, headOffice, numOfListings, companyDescription]\n",
        "              thewriter3.writerow(forCompany)\n",
        "\n",
        "              #companyEmail cannot be retrived because it's a form you have to fill\n",
        "\n",
        "              #companyId\n",
        "              #how to put projectId\n",
        "              #ensure datatypes are correct \n",
        "              #only in the past 14 days\n",
        "              #if statements to handle exceptions\n",
        "              #print(agentNum)\n",
        "\n",
        "              forProperty = [count, title, propertyType, size, listingDate, bedrooms, bathrooms, price, area, city, country, agentNum, projName, description]\n",
        "              forAgent = [agentNum, firstName, lastName, agentCompany]\n",
        "              thewriter1.writerow(forProperty)\n",
        "              thewriter2.writerow(forAgent)\n",
        "\n",
        "              for i in amenitiesList:\n",
        "                forAmenities = [count, i]\n",
        "                thewriter4.writerow(forAmenities)\n",
        "\n",
        "          else:\n",
        "            listingDate = \"0000-00-00\"\n",
        "\n",
        "          sleep(randint(2,8))\n"
      ]
    },
    {
      "cell_type": "markdown",
      "metadata": {
        "id": "pKcGPSGDnKPm"
      },
      "source": [
        "# User Related Tables"
      ]
    },
    {
      "cell_type": "code",
      "source": [
        "!pip install faker"
      ],
      "metadata": {
        "colab": {
          "base_uri": "https://localhost:8080/"
        },
        "id": "hr1GnPDK1_p4",
        "outputId": "b87d6be2-a282-4070-a77e-8be79b441a3a"
      },
      "execution_count": 92,
      "outputs": [
        {
          "output_type": "stream",
          "name": "stdout",
          "text": [
            "Looking in indexes: https://pypi.org/simple, https://us-python.pkg.dev/colab-wheels/public/simple/\n",
            "Collecting faker\n",
            "  Downloading Faker-15.1.1-py3-none-any.whl (1.6 MB)\n",
            "\u001b[K     |████████████████████████████████| 1.6 MB 4.2 MB/s \n",
            "\u001b[?25hRequirement already satisfied: python-dateutil>=2.4 in /usr/local/lib/python3.7/dist-packages (from faker) (2.8.2)\n",
            "Requirement already satisfied: typing-extensions>=3.10.0.1 in /usr/local/lib/python3.7/dist-packages (from faker) (4.1.1)\n",
            "Requirement already satisfied: six>=1.5 in /usr/local/lib/python3.7/dist-packages (from python-dateutil>=2.4->faker) (1.15.0)\n",
            "Installing collected packages: faker\n",
            "Successfully installed faker-15.1.1\n"
          ]
        }
      ]
    },
    {
      "cell_type": "code",
      "source": [
        "from faker import Faker"
      ],
      "metadata": {
        "id": "w7AapWw_2EAe"
      },
      "execution_count": 93,
      "outputs": []
    },
    {
      "cell_type": "code",
      "source": [
        "numOfUsers = np.arange(1,10001,1)"
      ],
      "metadata": {
        "id": "PRrn9ZLN22Kr"
      },
      "execution_count": null,
      "outputs": []
    },
    {
      "cell_type": "code",
      "source": [
        "data = pd.read_csv(\"property.csv\")\n",
        "areasOfFocus = data['Area'].tolist()\n",
        "areasOfFocus = list(dict.fromkeys(areasOfFocus))\n",
        "len(areasOfFocus)"
      ],
      "metadata": {
        "id": "FmuRWwzdQBPT"
      },
      "execution_count": null,
      "outputs": []
    },
    {
      "cell_type": "code",
      "source": [
        "with open('user.csv', 'w', newline = '', encoding = 'utf8') as f1, open('areasOfFocus.csv', 'w', newline = '', encoding = 'utf8') as f2, open('saved.csv', 'w', newline = '', encoding = 'utf8') as f3:\n",
        "    thewriter1 = writer(f1)\n",
        "    thewriter2 = writer(f2)\n",
        "    thewriter3 = writer(f3)\n",
        "    header1 = ['UserName', 'First Name', 'Last Name', 'Email', 'Birthdate', 'Gender']\n",
        "    header2 = ['UserName', 'Area Of Focus']\n",
        "    header3 = ['UserName', 'Property ID']\n",
        "    thewriter1.writerow(header1)\n",
        "    thewriter2.writerow(header2)\n",
        "    thewriter3.writerow(header3)\n",
        "\n",
        "    for i in numOfUsers:\n",
        "      faker = Faker()\n",
        "      username = faker.simple_profile()[\"username\"]\n",
        "      usersName = faker.simple_profile()[\"name\"].split()\n",
        "      firstName = usersName[0]\n",
        "      lastName = usersName[1]\n",
        "      email = faker.simple_profile()[\"mail\"]\n",
        "      birthDate = faker.simple_profile()[\"birthdate\"]\n",
        "      gender = faker.simple_profile()[\"sex\"]\n",
        "      userInfo = [username, firstName, lastName, email, birthDate, gender]\n",
        "      \n",
        "      inc = random.randrange(1, 10)\n",
        "      newList = random.sample(areasOfFocus, inc)\n",
        "      incc = np.arange(1,inc,1)\n",
        "      for j in incc:\n",
        "        thewriter2.writerow([username, newList[j]])\n",
        "\n",
        "      ninc = random.sample(range(1, 5000), 3400)\n",
        "      randnum = random.randrange(1, 10)\n",
        "\n",
        "      nincc = np.arange(1,randnum,1)\n",
        "      for n in nincc:\n",
        "        thewriter3.writerow([username, ninc[n]])\n",
        "\n",
        "      thewriter1.writerow(userInfo)"
      ],
      "metadata": {
        "colab": {
          "base_uri": "https://localhost:8080/"
        },
        "id": "Y2Zq1wh02HqQ",
        "outputId": "fc3a8fa9-8da7-4f35-8558-e7a1c2247d99"
      },
      "execution_count": 95,
      "outputs": [
        {
          "output_type": "stream",
          "name": "stdout",
          "text": [
            "Matthew Franco\n"
          ]
        },
        {
          "output_type": "execute_result",
          "data": {
            "text/plain": [
              "['Head investment town heart court clearly end easy. Road other the shake management short rule. Then old view whom upon one local. Step people can accept into deal woman.',\n",
              " 'Her approach necessary military decide clearly. Act happy game his whole. Season north institution officer peace.',\n",
              " 'Leader trip no night indicate concern sell.']"
            ]
          },
          "metadata": {},
          "execution_count": 95
        }
      ]
    },
    {
      "cell_type": "code",
      "source": [
        "df = pd.read_csv('agent.csv')\n",
        "agents = df['Agent Phone Num'].tolist()\n",
        "agents = list(dict.fromkeys(agents))\n",
        "df2 = pd.read_csv('user.csv')\n",
        "users = df2['UserName'].tolist()\n",
        "users = list(dict.fromkeys(users))\n",
        "print(len(users))\n",
        "\n",
        "loopRange = np.arange(1,8000,1)\n",
        "\n",
        "with open('reviews.csv', 'w', newline = '', encoding = 'utf8') as f1:\n",
        "    thewriter = writer(f1)\n",
        "    header = ['UserName', 'Agent Phone Num', 'Review', 'Rating']\n",
        "    thewriter.writerow(header)\n",
        "    faker = Faker()\n",
        "\n",
        "    for i in loopRange:\n",
        "      randnum = random.randrange(1, 325)\n",
        "      randnum2 = random.randrange(1,10)\n",
        "      thewriter.writerow([users[i], agents[randnum], faker.paragraph(), randnum2] )"
      ],
      "metadata": {
        "id": "oIEKsyuVQSyJ"
      },
      "execution_count": null,
      "outputs": []
    },
    {
      "cell_type": "markdown",
      "source": [
        "# Clean Data"
      ],
      "metadata": {
        "id": "zc1br6V8P3_Z"
      }
    },
    {
      "cell_type": "code",
      "source": [
        "import pandas as pd\n",
        "import glob\n",
        "import os\n",
        "\n",
        "# setting the path for joining multiple files\n",
        "files1 = os.path.join(\"property*.csv\")\n",
        "files2 = os.path.join(\"agent*.csv\")\n",
        "files3 = os.path.join(\"company*.csv\")\n",
        "files4 = os.path.join(\"amenities*.csv\")\n",
        "\n",
        "# list of merged files returned\n",
        "files1 = glob.glob(files1)\n",
        "files2 = glob.glob(files2)\n",
        "files3 = glob.glob(files3)\n",
        "files4 = glob.glob(files4)\n",
        "\n",
        "print(\"Resultant CSV after joining all CSV files at a particular location...\");\n",
        "\n",
        "# joining files with concat and read_csv\n",
        "df1 = pd.concat(map(pd.read_csv, files1), ignore_index=True)\n",
        "df2 = pd.concat(map(pd.read_csv, files2), ignore_index=True)\n",
        "df3 = pd.concat(map(pd.read_csv, files3), ignore_index=True)\n",
        "df4 = pd.concat(map(pd.read_csv, files4), ignore_index=True)\n",
        "df1.to_csv('nproperty.csv')\n",
        "df2.to_csv('nagent.csv')\n",
        "df3.to_csv('ncompany.csv')\n",
        "df4.to_csv('namenities.csv')"
      ],
      "metadata": {
        "colab": {
          "base_uri": "https://localhost:8080/"
        },
        "id": "nJkx27Hu4obZ",
        "outputId": "0c4342e9-679f-49e6-e4b6-3ceba63cb534"
      },
      "execution_count": 23,
      "outputs": [
        {
          "output_type": "stream",
          "name": "stdout",
          "text": [
            "Resultant CSV after joining all CSV files at a particular location...\n"
          ]
        }
      ]
    },
    {
      "cell_type": "code",
      "source": [
        "df1 = pd.read_csv('user.csv')\n",
        "df2 = pd.read_csv('saved.csv')\n",
        "df3 = pd.read_csv('areasOfFocus.csv')\n",
        "df4 = pd.read_csv('reviews.csv')\n",
        "df5 = pd.read_csv('nagent.csv')\n",
        "df6 = pd.read_csv('nproperty.csv')\n",
        "df7 = pd.read_csv('DevProj.csv')\n",
        "df9 = pd.read_csv('namenities.csv')\n",
        "\n",
        "df1 = df1.drop_duplicates()\n",
        "df2 = df2.drop_duplicates()\n",
        "df3 = df3.drop_duplicates()\n",
        "df4 = df4.drop_duplicates()\n",
        "df5 = df5.drop_duplicates()\n",
        "df6 = df6.drop_duplicates()\n",
        "df7 = df7.drop_duplicates()\n",
        "df9 = df9.drop_duplicates()\n",
        "\n",
        "df1.to_csv('user.csv')\n",
        "df2.to_csv('saved.csv')\n",
        "df3.to_csv('areasOfFocus.csv')\n",
        "df4.to_csv('reviews.csv')\n",
        "df5.to_csv('agent.csv')\n",
        "df6.to_csv('property.csv')\n",
        "df7.to_csv('DevProj.csv')\n",
        "df9.to_csv('amenities.csv')"
      ],
      "metadata": {
        "id": "3T8mprSCP6nz"
      },
      "execution_count": 31,
      "outputs": []
    },
    {
      "cell_type": "markdown",
      "source": [
        "# Inserting into MySQL"
      ],
      "metadata": {
        "id": "pTXH2HLJ8Q0u"
      }
    },
    {
      "cell_type": "code",
      "source": [
        "!pip install pymysql"
      ],
      "metadata": {
        "colab": {
          "base_uri": "https://localhost:8080/"
        },
        "id": "ysDptNxm8dlL",
        "outputId": "eff7150a-2548-4086-d2df-24600605107a"
      },
      "execution_count": 18,
      "outputs": [
        {
          "output_type": "stream",
          "name": "stdout",
          "text": [
            "Looking in indexes: https://pypi.org/simple, https://us-python.pkg.dev/colab-wheels/public/simple/\n",
            "Collecting pymysql\n",
            "  Downloading PyMySQL-1.0.2-py3-none-any.whl (43 kB)\n",
            "\u001b[K     |████████████████████████████████| 43 kB 2.0 MB/s \n",
            "\u001b[?25hInstalling collected packages: pymysql\n",
            "Successfully installed pymysql-1.0.2\n"
          ]
        }
      ]
    },
    {
      "cell_type": "code",
      "source": [
        "import pymysql as pql\n",
        "hostname = 'localhost'\n",
        "username = 'root'\n",
        "password = 'password'\n",
        "database = 'pf2'\n",
        "conn = pql.connect( host=hostname, user=username, passwd=password, db=database )"
      ],
      "metadata": {
        "colab": {
          "base_uri": "https://localhost:8080/",
          "height": 426
        },
        "id": "7bfIwQe88Tuc",
        "outputId": "6dc65ee5-349b-4d97-bbb7-1a343e8b8d55"
      },
      "execution_count": 19,
      "outputs": [
        {
          "output_type": "error",
          "ename": "OperationalError",
          "evalue": "ignored",
          "traceback": [
            "\u001b[0;31m---------------------------------------------------------------------------\u001b[0m",
            "\u001b[0;31mOSError\u001b[0m                                   Traceback (most recent call last)",
            "\u001b[0;32m/usr/local/lib/python3.7/dist-packages/pymysql/connections.py\u001b[0m in \u001b[0;36mconnect\u001b[0;34m(self, sock)\u001b[0m\n\u001b[1;32m    613\u001b[0m                             sock = socket.create_connection(\n\u001b[0;32m--> 614\u001b[0;31m                                 \u001b[0;34m(\u001b[0m\u001b[0mself\u001b[0m\u001b[0;34m.\u001b[0m\u001b[0mhost\u001b[0m\u001b[0;34m,\u001b[0m \u001b[0mself\u001b[0m\u001b[0;34m.\u001b[0m\u001b[0mport\u001b[0m\u001b[0;34m)\u001b[0m\u001b[0;34m,\u001b[0m \u001b[0mself\u001b[0m\u001b[0;34m.\u001b[0m\u001b[0mconnect_timeout\u001b[0m\u001b[0;34m,\u001b[0m \u001b[0;34m**\u001b[0m\u001b[0mkwargs\u001b[0m\u001b[0;34m\u001b[0m\u001b[0;34m\u001b[0m\u001b[0m\n\u001b[0m\u001b[1;32m    615\u001b[0m                             )\n",
            "\u001b[0;32m/usr/lib/python3.7/socket.py\u001b[0m in \u001b[0;36mcreate_connection\u001b[0;34m(address, timeout, source_address)\u001b[0m\n\u001b[1;32m    727\u001b[0m         \u001b[0;32mtry\u001b[0m\u001b[0;34m:\u001b[0m\u001b[0;34m\u001b[0m\u001b[0;34m\u001b[0m\u001b[0m\n\u001b[0;32m--> 728\u001b[0;31m             \u001b[0;32mraise\u001b[0m \u001b[0merr\u001b[0m\u001b[0;34m\u001b[0m\u001b[0;34m\u001b[0m\u001b[0m\n\u001b[0m\u001b[1;32m    729\u001b[0m         \u001b[0;32mfinally\u001b[0m\u001b[0;34m:\u001b[0m\u001b[0;34m\u001b[0m\u001b[0;34m\u001b[0m\u001b[0m\n",
            "\u001b[0;32m/usr/lib/python3.7/socket.py\u001b[0m in \u001b[0;36mcreate_connection\u001b[0;34m(address, timeout, source_address)\u001b[0m\n\u001b[1;32m    715\u001b[0m                 \u001b[0msock\u001b[0m\u001b[0;34m.\u001b[0m\u001b[0mbind\u001b[0m\u001b[0;34m(\u001b[0m\u001b[0msource_address\u001b[0m\u001b[0;34m)\u001b[0m\u001b[0;34m\u001b[0m\u001b[0;34m\u001b[0m\u001b[0m\n\u001b[0;32m--> 716\u001b[0;31m             \u001b[0msock\u001b[0m\u001b[0;34m.\u001b[0m\u001b[0mconnect\u001b[0m\u001b[0;34m(\u001b[0m\u001b[0msa\u001b[0m\u001b[0;34m)\u001b[0m\u001b[0;34m\u001b[0m\u001b[0;34m\u001b[0m\u001b[0m\n\u001b[0m\u001b[1;32m    717\u001b[0m             \u001b[0;31m# Break explicitly a reference cycle\u001b[0m\u001b[0;34m\u001b[0m\u001b[0;34m\u001b[0m\u001b[0;34m\u001b[0m\u001b[0m\n",
            "\u001b[0;31mOSError\u001b[0m: [Errno 99] Cannot assign requested address",
            "\nDuring handling of the above exception, another exception occurred:\n",
            "\u001b[0;31mOperationalError\u001b[0m                          Traceback (most recent call last)",
            "\u001b[0;32m<ipython-input-19-9960d062dd2b>\u001b[0m in \u001b[0;36m<module>\u001b[0;34m\u001b[0m\n\u001b[1;32m      4\u001b[0m \u001b[0mpassword\u001b[0m \u001b[0;34m=\u001b[0m \u001b[0;34m'password'\u001b[0m\u001b[0;34m\u001b[0m\u001b[0;34m\u001b[0m\u001b[0m\n\u001b[1;32m      5\u001b[0m \u001b[0mdatabase\u001b[0m \u001b[0;34m=\u001b[0m \u001b[0;34m'propertyfinder'\u001b[0m\u001b[0;34m\u001b[0m\u001b[0;34m\u001b[0m\u001b[0m\n\u001b[0;32m----> 6\u001b[0;31m \u001b[0mconn\u001b[0m \u001b[0;34m=\u001b[0m \u001b[0mpql\u001b[0m\u001b[0;34m.\u001b[0m\u001b[0mconnect\u001b[0m\u001b[0;34m(\u001b[0m \u001b[0mhost\u001b[0m\u001b[0;34m=\u001b[0m\u001b[0mhostname\u001b[0m\u001b[0;34m,\u001b[0m \u001b[0muser\u001b[0m\u001b[0;34m=\u001b[0m\u001b[0musername\u001b[0m\u001b[0;34m,\u001b[0m \u001b[0mpasswd\u001b[0m\u001b[0;34m=\u001b[0m\u001b[0mpassword\u001b[0m\u001b[0;34m,\u001b[0m \u001b[0mdb\u001b[0m\u001b[0;34m=\u001b[0m\u001b[0mdatabase\u001b[0m \u001b[0;34m)\u001b[0m\u001b[0;34m\u001b[0m\u001b[0;34m\u001b[0m\u001b[0m\n\u001b[0m",
            "\u001b[0;32m/usr/local/lib/python3.7/dist-packages/pymysql/connections.py\u001b[0m in \u001b[0;36m__init__\u001b[0;34m(self, user, password, host, database, unix_socket, port, charset, sql_mode, read_default_file, conv, use_unicode, client_flag, cursorclass, init_command, connect_timeout, read_default_group, autocommit, local_infile, max_allowed_packet, defer_connect, auth_plugin_map, read_timeout, write_timeout, bind_address, binary_prefix, program_name, server_public_key, ssl, ssl_ca, ssl_cert, ssl_disabled, ssl_key, ssl_verify_cert, ssl_verify_identity, compress, named_pipe, passwd, db)\u001b[0m\n\u001b[1;32m    351\u001b[0m             \u001b[0mself\u001b[0m\u001b[0;34m.\u001b[0m\u001b[0m_sock\u001b[0m \u001b[0;34m=\u001b[0m \u001b[0;32mNone\u001b[0m\u001b[0;34m\u001b[0m\u001b[0;34m\u001b[0m\u001b[0m\n\u001b[1;32m    352\u001b[0m         \u001b[0;32melse\u001b[0m\u001b[0;34m:\u001b[0m\u001b[0;34m\u001b[0m\u001b[0;34m\u001b[0m\u001b[0m\n\u001b[0;32m--> 353\u001b[0;31m             \u001b[0mself\u001b[0m\u001b[0;34m.\u001b[0m\u001b[0mconnect\u001b[0m\u001b[0;34m(\u001b[0m\u001b[0;34m)\u001b[0m\u001b[0;34m\u001b[0m\u001b[0;34m\u001b[0m\u001b[0m\n\u001b[0m\u001b[1;32m    354\u001b[0m \u001b[0;34m\u001b[0m\u001b[0m\n\u001b[1;32m    355\u001b[0m     \u001b[0;32mdef\u001b[0m \u001b[0m__enter__\u001b[0m\u001b[0;34m(\u001b[0m\u001b[0mself\u001b[0m\u001b[0;34m)\u001b[0m\u001b[0;34m:\u001b[0m\u001b[0;34m\u001b[0m\u001b[0;34m\u001b[0m\u001b[0m\n",
            "\u001b[0;32m/usr/local/lib/python3.7/dist-packages/pymysql/connections.py\u001b[0m in \u001b[0;36mconnect\u001b[0;34m(self, sock)\u001b[0m\n\u001b[1;32m    662\u001b[0m                 \u001b[0;32mif\u001b[0m \u001b[0mDEBUG\u001b[0m\u001b[0;34m:\u001b[0m\u001b[0;34m\u001b[0m\u001b[0;34m\u001b[0m\u001b[0m\n\u001b[1;32m    663\u001b[0m                     \u001b[0mprint\u001b[0m\u001b[0;34m(\u001b[0m\u001b[0mexc\u001b[0m\u001b[0;34m.\u001b[0m\u001b[0mtraceback\u001b[0m\u001b[0;34m)\u001b[0m\u001b[0;34m\u001b[0m\u001b[0;34m\u001b[0m\u001b[0m\n\u001b[0;32m--> 664\u001b[0;31m                 \u001b[0;32mraise\u001b[0m \u001b[0mexc\u001b[0m\u001b[0;34m\u001b[0m\u001b[0;34m\u001b[0m\u001b[0m\n\u001b[0m\u001b[1;32m    665\u001b[0m \u001b[0;34m\u001b[0m\u001b[0m\n\u001b[1;32m    666\u001b[0m             \u001b[0;31m# If e is neither DatabaseError or IOError, It's a bug.\u001b[0m\u001b[0;34m\u001b[0m\u001b[0;34m\u001b[0m\u001b[0;34m\u001b[0m\u001b[0m\n",
            "\u001b[0;31mOperationalError\u001b[0m: (2003, \"Can't connect to MySQL server on 'localhost' ([Errno 99] Cannot assign requested address)\")"
          ]
        }
      ]
    },
    {
      "cell_type": "code",
      "source": [
        "conn.close()"
      ],
      "metadata": {
        "id": "bf0mJBywTVnT"
      },
      "execution_count": null,
      "outputs": []
    },
    {
      "cell_type": "code",
      "source": [
        "# insert projects\n",
        "cursor = conn.cursor()\n",
        "insert = \"\"\"INSERT INTO DevlopmentProject (ProjectName, DevName, PriceFrom, PricePerSqft, ProjStatus, PQuarter, ProjYear, Units,\n",
        "Bedrooms, Location, DevProjDescription ) VALUES (%s, %s, %s, %s, %s, %s, %s, %s, %s, %s, %s)\"\"\"\n",
        "\n",
        "data = pd.read_csv(\"DevProj.csv\")\n",
        "propID = [elem if not pd.isna(elem) else \"None\" for elem in data['Project Name'].tolist() ]\n",
        "data = data.drop_duplicates(subset='Project Name', keep='first')\n",
        "propID = list(dict.fromkeys(propID))\n",
        "title = [elem if not pd.isna(elem) else \"None\" for elem in data['Company Name'].tolist() ]\n",
        "size = [elem if not pd.isna(elem) else 0 for elem in data['Price From'].tolist() ]\n",
        "listingDate = [elem if not pd.isna(elem) else 0 for elem in data['Price Per Sqft'].tolist() ]\n",
        "bedrooms = [elem if not pd.isna(elem) else \"None\" for elem in data['Status'].tolist() ]\n",
        "bathrooms = [elem if not pd.isna(elem) else \"Q1\" for elem in data['Quarter'].tolist() ]\n",
        "price = [elem if not pd.isna(elem) else 0 for elem in data['Year'].tolist() ]\n",
        "area = [elem if not pd.isna(elem) else 0 for elem in data['Units'].tolist() ]\n",
        "city = [elem if not pd.isna(elem) else \"None\" for elem in data['Bedrooms'].tolist() ]\n",
        "country = [elem if not pd.isna(elem) else \"None\" for elem in data['Location'].tolist() ]\n",
        "agentNum = [elem if not pd.isna(elem) else \"None\" for elem in data['Description'].tolist() ]\n",
        "\n",
        "\n",
        "for i in range(len(propID)):\n",
        "    cursor.execute(insert, (propID[i], title[i],size[i], listingDate[i], bedrooms[i], bathrooms[i], price[i], area[i], city[i], country[i], agentNum[i]))\n",
        "conn.commit()"
      ],
      "metadata": {
        "id": "F4lwFPwNTfrU"
      },
      "execution_count": null,
      "outputs": []
    },
    {
      "cell_type": "code",
      "source": [
        "#insert companies\n",
        "cursor = conn.cursor()\n",
        "insert = \"\"\"INSERT INTO BrokerCompany (CompanyName, PhoneNumber, Address, NumActiveListings, About) VALUES (%s, %s, %s, %s, %s)\"\"\"\n",
        "\n",
        "data = pd.read_csv(\"company.csv\", engine='python')\n",
        "uniquething = [elem if not pd.isna(elem) else \"None\" for elem in data['Company Name'].tolist() ]\n",
        "#data = data.drop_duplicates(subset='Company Name', keep='first')\n",
        "title = [elem if not pd.isna(elem) else 0 for elem in data['Phone Num'].tolist() ]\n",
        "#data = data.drop_duplicates(subset='Phone Num', keep='first')\n",
        "size = [elem if not pd.isna(elem) else \"None\" for elem in data['Address'].tolist() ]\n",
        "listingDate = [elem if not pd.isna(elem) else 0 for elem in data['# Active Listings'].tolist() ]\n",
        "bedrooms = [elem if not pd.isna(elem) else \"None\" for elem in data['About'].tolist() ]\n",
        "\n",
        "\n",
        "for i in range(len(uniquething)):\n",
        "    cursor.execute(insert, (uniquething[i], title[i],size[i], listingDate[i], bedrooms[i]))\n",
        "conn.commit()"
      ],
      "metadata": {
        "id": "sy32lkRvThUz"
      },
      "execution_count": null,
      "outputs": []
    },
    {
      "cell_type": "code",
      "source": [
        "#insert agents\n",
        "cursor = conn.cursor()\n",
        "insert = \"\"\"INSERT INTO Agent (ContactNum, FName, LName, CompanyName) VALUES (%s, %s, %s, %s)\"\"\"\n",
        "\n",
        "data = pd.read_csv(\"agent.csv\", engine='python')\n",
        "\n",
        "agentID = [elem if not pd.isna(elem) else \"None\" for elem in data['Agent Phone Num'].tolist() ]\n",
        "data = data.drop_duplicates(subset='Agent Phone Num', keep='first')\n",
        "agentID = [elem if not pd.isna(elem) else \"None\" for elem in data['Agent Phone Num'].tolist() ]\n",
        "title = [elem if not pd.isna(elem) else 0 for elem in data['First Name'].tolist() ]\n",
        "size = [elem if not pd.isna(elem) else \"None\" for elem in data['Last Name'].tolist() ]\n",
        "listingDate = [elem if not pd.isna(elem) else 0 for elem in data['Company Name'].tolist() ]\n",
        "\n",
        "\n",
        "for i in range(len(propID)):\n",
        "    cursor.execute(insert, (agentID[i], title[i],size[i], listingDate[i]))\n",
        "conn.commit()"
      ],
      "metadata": {
        "id": "rMH_YFK3TjVt"
      },
      "execution_count": null,
      "outputs": []
    },
    {
      "cell_type": "code",
      "source": [
        "# insert properties\n",
        "faker = Faker()\n",
        "import random\n",
        "cursor = conn.cursor()\n",
        "insert = \"\"\"INSERT INTO Property (PropertyId, Proptitle, PType, Size, Listing_Date, Bedrooms, Bathrooms, Price,\n",
        "Area, City, Country , AgentNum, ProjectName, Pdescription ) VALUES (%s, %s, %s, %s, %s, %s, %s, %s, %s, %s, %s, %s, %s, %s)\"\"\"\n",
        "insert_agent = \"\"\"INSERT INTO Agent (ContactNum, FName, LName, CompanyName) VALUES (%s, %s, %s, %s)\"\"\"\n",
        "data = pd.read_csv(\"property.csv\", engine='python')\n",
        "data.drop('Unnamed: 0',axis=1,inplace=True)\n",
        "propID = [elem if  not pd.isna(elem) else \"None\" for elem in data['Property ID'].tolist() ]\n",
        "data = data.drop_duplicates(subset='Property ID', keep='first')\n",
        "propID = [elem if  not pd.isna(elem) else \"None\" for elem in data['Property ID'].tolist() ]\n",
        "title = [elem if not pd.isna(elem) else \"None\" for elem in data['Title'].tolist() ]\n",
        "ptype = [elem if not pd.isna(elem) else \"None\" for elem in data['Property Type'].tolist() ]\n",
        "size = [elem if not pd.isna(elem) else 0 for elem in data['Size'].tolist() ]\n",
        "listingDate = [elem if not pd.isna(elem) else 0 for elem in data['Listing Date'].tolist() ]\n",
        "bedrooms = [elem if not pd.isna(elem) else 0 for elem in data['Bedrooms'].tolist() ]\n",
        "bathrooms = [elem if not pd.isna(elem) else 0 for elem in data['Bathrooms'].tolist() ]\n",
        "price = [elem if not pd.isna(elem) else 0 for elem in data['Price'].tolist() ]\n",
        "area = [elem if not pd.isna(elem) else \"None\" for elem in data['Area'].tolist() ]\n",
        "city = [elem if not pd.isna(elem) else \"None\" for elem in data['City'].tolist() ]\n",
        "country = [elem if not pd.isna(elem) else \"None\" for elem in data['Country'].tolist() ]\n",
        "agentNum = [elem if not pd.isna(elem) else \"None\" for elem in data['Agent Number'].tolist() ]\n",
        "pName = [elem if not pd.isna(elem) else \"None\" for elem in data['Project Name'].tolist() ]\n",
        "description = [elem if not pd.isna(elem) else \"None\" for elem in data['Description'].tolist() ]\n",
        "# distinct = list(dict.fromkeys(agentNum))\n",
        "# for agent in agentNum:\n",
        "#     if agent not in agentID:\n",
        "#         cursor.execute(insert_agent, (agent, faker.name()[0], faker.name()[1], random.choice(uniquething)))\n",
        "# conn.commit()\n",
        "for i in range(len(propID)):\n",
        "    cursor.execute(insert, (propID[i], title[i], ptype[i],size[i], listingDate[i], bedrooms[i], bathrooms[i], price[i], area[i], city[i], country[i], agentNum[i], pName[i],description[i] ))\n",
        "conn.commit()"
      ],
      "metadata": {
        "id": "xd0EvdEwTk05"
      },
      "execution_count": null,
      "outputs": []
    },
    {
      "cell_type": "code",
      "source": [
        "#insert users\n",
        "cursor = conn.cursor()\n",
        "insert = \"\"\"INSERT INTO PUser (Username,FName, LName, Email, Birthdate, gender ) VALUES (%s, %s, %s,%s, %s, %s )\"\"\"\n",
        "\n",
        "data = pd.read_csv(\"user.csv\")\n",
        "propID = [elem if  not pd.isna(elem) else \"None\" for elem in data['UserName'].tolist() ]\n",
        "data = data.drop_duplicates(subset='UserName', keep='first')\n",
        "propID = [elem if  not pd.isna(elem) else \"None\" for elem in data['UserName'].tolist() ]\n",
        "title = [elem if not pd.isna(elem) else \"None\" for elem in data['First Name'].tolist() ]\n",
        "ptype = [elem if not pd.isna(elem) else \"None\" for elem in data['Last Name'].tolist() ]\n",
        "size = [elem if not pd.isna(elem) else 0 for elem in data['Email'].tolist() ]\n",
        "listingDate = [elem if not pd.isna(elem) else 0 for elem in data['Birthdate'].tolist() ]\n",
        "bedrooms = [elem if not pd.isna(elem) else 0 for elem in data['Gender'].tolist() ]\n",
        "\n",
        "for i in range(len(propID)):\n",
        "    cursor.execute(insert, (propID[i], title[i], ptype[i],size[i], listingDate[i], bedrooms[i]))\n",
        "conn.commit()"
      ],
      "metadata": {
        "id": "Ww_078tzTmnA"
      },
      "execution_count": null,
      "outputs": []
    },
    {
      "cell_type": "code",
      "source": [
        "#areasOfFocus\n",
        "cursor = conn.cursor()\n",
        "insert = \"\"\"INSERT INTO AreasofFocus (Username,FocusType ) VALUES (%s, %s)\"\"\"\n",
        "\n",
        "data = pd.read_csv(\"areasOfFocus.csv\")\n",
        "Amenity = data['UserName'].tolist()\n",
        "propID = data['Area Of Focus'].tolist()\n",
        "\n",
        "for i in range(len(Amenity)):\n",
        "    cursor.execute(insert, (Amenity[i], propID[i]))\n",
        "conn.commit()"
      ],
      "metadata": {
        "id": "5AnSy8fUToTc"
      },
      "execution_count": null,
      "outputs": []
    },
    {
      "cell_type": "code",
      "source": [
        "# insert amenities\n",
        "cursor = conn.cursor()\n",
        "insert = \"\"\"INSERT INTO Amenities (PropertyId,Amenity ) VALUES (%s, %s)\"\"\"\n",
        "\n",
        "data = pd.read_csv(\"amenities.csv\")\n",
        "Amenity = data['Amenity'].tolist()\n",
        "propID = data['Property ID'].tolist()\n",
        "\n",
        "for i in range(len(Amenity)):\n",
        "    cursor.execute(insert, (propID[i], Amenity[i]))\n",
        "conn.commit()"
      ],
      "metadata": {
        "id": "1s9XUlnvTpw5"
      },
      "execution_count": null,
      "outputs": []
    },
    {
      "cell_type": "code",
      "source": [
        "#insert saved\n",
        "cursor = conn.cursor()\n",
        "insert = \"\"\"INSERT INTO Saved (Username,PropertyId) VALUES (%s, %s)\"\"\"\n",
        "\n",
        "data = pd.read_csv(\"saved.csv\")\n",
        "Amenity = data['UserName'].tolist()\n",
        "propID = data['Property ID'].tolist()\n",
        "data = data.drop_duplicates(subset=['Property ID', 'UserName'], keep='first')\n",
        "Amenity = data['UserName'].tolist()\n",
        "propID = data['Property ID'].tolist()\n",
        "\n",
        "for i in range(len(Amenity)):\n",
        "    cursor.execute(insert, (Amenity[i], propID[i]))\n",
        "conn.commit()"
      ],
      "metadata": {
        "id": "FuCBJxjgTrVT"
      },
      "execution_count": null,
      "outputs": []
    },
    {
      "cell_type": "code",
      "source": [
        "#insert reviews\n",
        "cursor = conn.cursor()\n",
        "insert = \"\"\"INSERT INTO Reviews (Username,AgentNum, TextualReview, Rating) VALUES (%s, %s, %s, %s)\"\"\"\n",
        "\n",
        "data = pd.read_csv(\"reviews.csv\")\n",
        "Amenity = data['UserName'].tolist()\n",
        "propID = data['Agent Phone Num'].tolist()\n",
        "review = data['Review'].tolist()\n",
        "rating = data['Rating'].tolist()\n",
        "\n",
        "for i in range(len(Amenity)):\n",
        "    cursor.execute(insert, (Amenity[i], propID[i], review[i], rating[i]))\n",
        "conn.commit()"
      ],
      "metadata": {
        "id": "mDMtCiefTuFw"
      },
      "execution_count": null,
      "outputs": []
    }
  ],
  "metadata": {
    "colab": {
      "provenance": [],
      "collapsed_sections": []
    },
    "kernelspec": {
      "display_name": "Python 3",
      "name": "python3"
    },
    "language_info": {
      "name": "python"
    }
  },
  "nbformat": 4,
  "nbformat_minor": 0
}